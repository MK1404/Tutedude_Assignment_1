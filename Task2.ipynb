{
 "cells": [
  {
   "cell_type": "code",
   "execution_count": 7,
   "id": "145b39a8-6a00-4b17-bd67-a28418449012",
   "metadata": {},
   "outputs": [
    {
     "name": "stdin",
     "output_type": "stream",
     "text": [
      "Enter your first name: John\n",
      "Enter your last name: Doe\n"
     ]
    },
    {
     "name": "stdout",
     "output_type": "stream",
     "text": [
      "Hello John Doe!  Welcome to the Python program\n"
     ]
    }
   ],
   "source": [
    "# Task 2: Create a Personalized Greeting\n",
    "# 1.  Takes a user's first name and last name as input.\n",
    "\n",
    "first_name = input('Enter your first name:')\n",
    "last_name = input('Enter your last name:')\n",
    "\n",
    "#2.  Concatenates the first name and last name into a full name.\n",
    "\n",
    "Full_name = first_name+\" \"+last_name+'!'\n",
    "\n",
    "# 3.  Prints a personalized greeting message using the full name.\n",
    "\n",
    "print('Hello',Full_name,' Welcome to the Python program')"
   ]
  },
  {
   "cell_type": "code",
   "execution_count": null,
   "id": "3a4b0822-3ab7-4b47-9059-66c8f575132b",
   "metadata": {},
   "outputs": [],
   "source": []
  }
 ],
 "metadata": {
  "kernelspec": {
   "display_name": "Python 3 (ipykernel)",
   "language": "python",
   "name": "python3"
  },
  "language_info": {
   "codemirror_mode": {
    "name": "ipython",
    "version": 3
   },
   "file_extension": ".py",
   "mimetype": "text/x-python",
   "name": "python",
   "nbconvert_exporter": "python",
   "pygments_lexer": "ipython3",
   "version": "3.12.4"
  }
 },
 "nbformat": 4,
 "nbformat_minor": 5
}
