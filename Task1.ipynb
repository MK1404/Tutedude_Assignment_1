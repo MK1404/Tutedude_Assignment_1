{
 "cells": [
  {
   "cell_type": "code",
   "execution_count": null,
   "id": "88cd1240-2d19-43f3-9c02-8b0ada5226e4",
   "metadata": {},
   "outputs": [],
   "source": [
    "# Task 1: Perform Basic Mathematical Operations\n",
    "\n",
    "# 1.  Takes two numbers as input from the user.\n",
    "num1 = int(input('Enter the first number:'))\n",
    "num2 = int(input('Enter the second number:'))\n",
    "\n",
    "# 2.  Performs the basic mathematical operations on these two numbers:\n",
    "\n",
    "Addition = num1+num2\n",
    "Subtraction = num1-num2\n",
    "Multiplication = num1*num2\n",
    "Division = num1/num2\n",
    "\n",
    "# 3.  Displays the results of each operation on the screen.\n",
    "\n",
    "print('Addition is:',Addition)\n",
    "print('Subtraction is:',Subtraction)\n",
    "print('Multiplication is:',Multiplication)\n",
    "print('Division is:',Division)\n",
    "\n"
   ]
  }
 ],
 "metadata": {
  "kernelspec": {
   "display_name": "Python 3 (ipykernel)",
   "language": "python",
   "name": "python3"
  },
  "language_info": {
   "codemirror_mode": {
    "name": "ipython",
    "version": 3
   },
   "file_extension": ".py",
   "mimetype": "text/x-python",
   "name": "python",
   "nbconvert_exporter": "python",
   "pygments_lexer": "ipython3",
   "version": "3.12.4"
  }
 },
 "nbformat": 4,
 "nbformat_minor": 5
}
